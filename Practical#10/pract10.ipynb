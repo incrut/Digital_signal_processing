{
 "cells": [
  {
   "attachments": {},
   "cell_type": "markdown",
   "metadata": {},
   "source": [
    "# DSP LAB 10: Frequency shifting"
   ]
  },
  {
   "attachments": {},
   "cell_type": "markdown",
   "metadata": {},
   "source": [
    "### Pitch detection, shifting and auto-tune"
   ]
  },
  {
   "attachments": {},
   "cell_type": "markdown",
   "metadata": {},
   "source": [
    "This week the topic will be use what we’ve learned in working with the frequency\n",
    "domain and apply it to create our own but very basic auto-tuning algorithm.\n",
    "Auto-tuning or pitch-correction is a method of detecting the pitch, or in our\n",
    "case the dominant frequency in an audio sample and then correcting it to a\n",
    "different frequency.\n",
    "Pitch correction for an audio input consists of 5 primary steps:\n",
    "1. Breaking the audio into chunks\n",
    "2. Detecting the pitch of each chunk\n",
    "3. Required pitch correction value calculation\n",
    "4. Shifting the chunk’s pitch\n",
    "5. Stitching the audio back together\n",
    "\n",
    "In our case we will not be using state of the art and optimized methods like\n",
    "PYIN, instead we will use a slightly slower approach by bringing each chunk\n",
    "into frequency domain and doing basic array operations those chunks.\n",
    "Since our implementation of pitch correction will be using the ”dirty” method,\n",
    "the output will have several audio artefacts. Modern auto-tuning algorithms account and correct for those as well but the basic concept remains unchanged."
   ]
  },
  {
   "attachments": {},
   "cell_type": "markdown",
   "metadata": {},
   "source": [
    "### Useful functions in Python"
   ]
  },
  {
   "cell_type": "code",
   "execution_count": null,
   "metadata": {},
   "outputs": [],
   "source": [
    "# # f f t domain a r r ay i n d e x and f r e q u e n c y r e l a t i o n\n",
    "# s h i f t b i n s = int ( d e s i r e d s h i f t ∗ time dom . shape [ 0 ] / s am pl e r a t e )\n",
    "# # numpy f u n c t i o n t h a t can be used t o s h i f t an a r r ay\n",
    "# np . r o l l ( a r r , s h i f t )\n",
    "# # np . r o l l ( [ 1 , 2 , 3 , 4 , 5 ] , 2) −> [ 4 , 5 , 1 , 2 , 3 ]\n",
    "# #######\n",
    "# # For t e s t i n g you can use c h i r p t o make a s i g n a l t h a t\n",
    "# # sweeps from one s p e c i f i c f r e q u e n c y t o an o t he r\n",
    "# from s ci p y . s i g n a l import c hi r p\n",
    "# i n t e r v a l l e n g t h = 5 # in sec on d s\n",
    "# s am pl e r a t e = 44100 # s am pl ing o f your s i g n a l\n",
    "# f 0 = 100 # f r e q u e n c y 1 in Hz\n",
    "# f 1 = 1000 # f r e q u e n c y 2 in Hz\n",
    "# t = np . l i n s p a c e ( 0 , i n t e r v a l l e n g t h , int ( s am pl e r a t e ∗ i n t e r v a l l e n g t h ) )\n",
    "# s w e e p si g n al = c hi r p ( t , f 0=f0 , f 1=f1 , t 1=i n t e r v a l l e n g t h , method=’ l i n e a r ’ )\n",
    "# s w e e p si g n al ∗= 1 e9 # S c al e t h e s i g n a l t o be a u d i b l e f o r i n t 3 2"
   ]
  },
  {
   "cell_type": "code",
   "execution_count": 2,
   "metadata": {},
   "outputs": [],
   "source": [
    "import numpy as np\n",
    "from scipy.io import wavfile\n",
    "from scipy import signal\n",
    "import matplotlib.pyplot as plt\n",
    "from scipy.signal import chirp"
   ]
  },
  {
   "cell_type": "code",
   "execution_count": 8,
   "metadata": {},
   "outputs": [],
   "source": [
    "interval_length = 5\n",
    "sample_rate = 44100\n",
    "f0 = 440\n",
    "f1 = 440\n",
    "t = np.linspace(0, interval_length, int(sample_rate*interval_length))\n",
    "\n",
    "sweep_signal = chirp(t, f0=f0, f1=f1, t1 = interval_length, method=\"linear\")\n",
    "sweep_signal *= 1e9"
   ]
  },
  {
   "cell_type": "code",
   "execution_count": 4,
   "metadata": {},
   "outputs": [],
   "source": [
    "#wavfile.write(\"chirp.wav\", sample_rate, sweep_signal.astype(\"int32\"))"
   ]
  },
  {
   "cell_type": "code",
   "execution_count": 7,
   "metadata": {},
   "outputs": [
    {
     "data": {
      "image/png": "[encoded data removed]",
      "text/plain": [
       "<Figure size 640x480 with 1 Axes>"
      ]
     },
     "metadata": {},
     "output_type": "display_data"
    }
   ],
   "source": [
    "plt.plot(sweep_signal)\n",
    "plt.show()"
   ]
  },
  {
   "cell_type": "code",
   "execution_count": 9,
   "metadata": {},
   "outputs": [],
   "source": [
    "Fs, raw = wavfile.read(\"chirp.wav\")\n",
    "time_dom = np.array(raw)\n",
    "\n",
    "freq_dom = np.fft.fft(time_dom)\n",
    "freq_range = np.abs(np.fft.fftfreq(time_dom.shape[0], d=1/Fs))"
   ]
  },
  {
   "cell_type": "code",
   "execution_count": 10,
   "metadata": {},
   "outputs": [
    {
     "name": "stderr",
     "output_type": "stream",
     "text": [
      "C:\\Users\\Nikita\\AppData\\Local\\Packages\\PythonSoftwareFoundation.Python.3.9_qbz5n2kfra8p0\\LocalCache\\local-packages\\Python39\\site-packages\\matplotlib\\cbook\\__init__.py:1335: ComplexWarning: Casting complex values to real discards the imaginary part\n",
      "  return np.asarray(x, float)\n"
     ]
    },
    {
     "data": {
      "image/png": "[encoded data removed]",
      "text/plain": [
       "<Figure size 640x480 with 1 Axes>"
      ]
     },
     "metadata": {},
     "output_type": "display_data"
    }
   ],
   "source": [
    "plt.plot(freq_range, freq_dom)\n",
    "plt.show()"
   ]
  },
  {
   "cell_type": "code",
   "execution_count": null,
   "metadata": {},
   "outputs": [],
   "source": [
    "def find_pitch(freq_dom, freq_range):\n",
    "    peak_index = np.argmax(np.abs(freq_dom))\n",
    "    pitch = freq_range[peak_index]\n",
    "    return pitch\n",
    "\n"
   ]
  }
 ],
 "metadata": {
  "kernelspec": {
   "display_name": "Python 3",
   "language": "python",
   "name": "python3"
  },
  "language_info": {
   "codemirror_mode": {
    "name": "ipython",
    "version": 3
   },
   "file_extension": ".py",
   "mimetype": "text/x-python",
   "name": "python",
   "nbconvert_exporter": "python",
   "pygments_lexer": "ipython3",
   "version": "3.9.13"
  },
  "orig_nbformat": 4
 },
 "nbformat": 4,
 "nbformat_minor": 2
}
